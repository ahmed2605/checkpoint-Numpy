{
 "cells": [
  {
   "cell_type": "code",
   "execution_count": 21,
   "id": "4f9882b4",
   "metadata": {},
   "outputs": [
    {
     "name": "stdout",
     "output_type": "stream",
     "text": [
      "[45, 34, 67]\n"
     ]
    }
   ],
   "source": [
    "from array import *\n",
    "def array_list(array_num):\n",
    "    num_list = array_num.tolist()\n",
    "    print(num_list)\n",
    "array_num = array('i', [45,34,67])\n",
    "array_list(array_num)"
   ]
  },
  {
   "cell_type": "code",
   "execution_count": 27,
   "id": "04078df5",
   "metadata": {},
   "outputs": [
    {
     "name": "stdout",
     "output_type": "stream",
     "text": [
      "numpy matrix is : \n",
      "[[ 5  2  1]\n",
      " [ 3 40 22]\n",
      " [ 1 33 20]]\n",
      "trace of given 3X3 matrix\n",
      "65\n"
     ]
    }
   ],
   "source": [
    "n_array = np.array([[5, 2, 1],\n",
    "                    [3,40,22],\n",
    "                    [1,33,20]])\n",
    "print(\"numpy matrix is : \")\n",
    "print(n_array)\n",
    "trace = np.trace(n_array)\n",
    "print(\"trace of given 3X3 matrix\")\n",
    "print(trace)"
   ]
  },
  {
   "cell_type": "code",
   "execution_count": 36,
   "id": "97a6303c",
   "metadata": {},
   "outputs": [
    {
     "name": "stdout",
     "output_type": "stream",
     "text": [
      "Original array \n",
      "[[11  3  4]\n",
      " [ 3 20 30]]\n",
      "Values bigger than 10 =  [11 20 30]\n",
      "Their indices are  (array([0, 1, 1]), array([0, 1, 2]))\n"
     ]
    }
   ],
   "source": [
    "x = np.array([[11, 3, 4], [3, 20, 30]])\n",
    "print(\"Original array \")\n",
    "print(x)\n",
    "print(\"Values bigger than 10 = \", x[x>10])\n",
    "print(\"Their indices are \", np.nonzero(x > 10))"
   ]
  },
  {
   "cell_type": "code",
   "execution_count": 45,
   "id": "bfcc6915",
   "metadata": {},
   "outputs": [
    {
     "name": "stdout",
     "output_type": "stream",
     "text": [
      "[[  3  10  16]\n",
      " [ 27  13   9]\n",
      " [100  11  30]]\n",
      "[[67 65 83]\n",
      " [99 84 99]\n",
      " [92 62 72]]\n",
      "la somme des deux array est :\n",
      "[[ 70  75  99]\n",
      " [126  97 108]\n",
      " [192  73 102]]\n"
     ]
    }
   ],
   "source": [
    "A = np.array([[3, 10, 16], [27, 13, 9], [100, 11, 30]])\n",
    "B = np.random.randint(22, 100, size=(3,3))\n",
    "print(A)\n",
    "print(B)\n",
    "C = A+B\n",
    "print(\"la somme des deux array est :\")\n",
    "print(C)"
   ]
  },
  {
   "cell_type": "code",
   "execution_count": 64,
   "id": "253a1933",
   "metadata": {},
   "outputs": [
    {
     "name": "stdout",
     "output_type": "stream",
     "text": [
      "[[0.37010916 0.65825428 0.03727986]\n",
      " [0.60208898 0.55152964 0.44068642]\n",
      " [0.24181914 0.93569932 0.68468191]]\n",
      "la moyenne des lignes est \n",
      "[0.35521443 0.53143501 0.62073346]\n"
     ]
    }
   ],
   "source": [
    "w = np.random.random((3, 3))\n",
    "print(w)\n",
    "w_mean = np.mean(w, axis=1)\n",
    "print(\"la moyenne des lignes est :\")\n",
    "print(w_mean)\n"
   ]
  },
  {
   "cell_type": "code",
   "execution_count": null,
   "id": "96cf8b4f",
   "metadata": {},
   "outputs": [],
   "source": []
  }
 ],
 "metadata": {
  "kernelspec": {
   "display_name": "Python 3",
   "language": "python",
   "name": "python3"
  },
  "language_info": {
   "codemirror_mode": {
    "name": "ipython",
    "version": 3
   },
   "file_extension": ".py",
   "mimetype": "text/x-python",
   "name": "python",
   "nbconvert_exporter": "python",
   "pygments_lexer": "ipython3",
   "version": "3.8.8"
  }
 },
 "nbformat": 4,
 "nbformat_minor": 5
}
